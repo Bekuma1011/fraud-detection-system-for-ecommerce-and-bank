{
 "cells": [
  {
   "cell_type": "code",
   "execution_count": null,
   "id": "5ff2a777",
   "metadata": {},
   "outputs": [],
   "source": [
    "import shap\n",
    "import matplotlib.pyplot as plt\n",
    "\n",
    "# Use your best model: replace with best_model = rf_model or xgb_model as appropriate\n",
    "best_model = xgb_model  # or rf_model if it performed better\n",
    "\n",
    "# Use TreeExplainer for tree-based models\n",
    "explainer = shap.TreeExplainer(best_model)\n",
    "\n",
    "# Calculate SHAP values for the test set\n",
    "shap_values = explainer.shap_values(Xf_test)\n",
    "\n",
    "# ---------------------------\n",
    "# 1. SHAP Summary Plot (Global Feature Importance)\n",
    "# ---------------------------\n",
    "shap.summary_plot(shap_values, Xf_test, plot_type=\"bar\")\n",
    "plt.title(\"SHAP Summary Plot (Bar)\")\n",
    "plt.show()\n",
    "\n",
    "# Optional: Dot summary plot\n",
    "shap.summary_plot(shap_values, Xf_test)\n",
    "plt.title(\"SHAP Summary Plot (Dot)\")\n",
    "plt.show()\n",
    "\n",
    "# ---------------------------\n",
    "# 2. SHAP Force Plot (Local Explanation)\n",
    "# ---------------------------\n",
    "# Pick one test instance\n",
    "sample_index = 0\n",
    "shap.initjs()\n",
    "force_plot = shap.force_plot(\n",
    "    explainer.expected_value,\n",
    "    shap_values[sample_index],\n",
    "    Xf_test.iloc[sample_index],\n",
    "    matplotlib=True\n",
    ")\n",
    "plt.show()\n"
   ]
  }
 ],
 "metadata": {
  "kernelspec": {
   "display_name": "venv",
   "language": "python",
   "name": "python3"
  },
  "language_info": {
   "name": "python",
   "version": "3.13.5"
  }
 },
 "nbformat": 4,
 "nbformat_minor": 5
}
